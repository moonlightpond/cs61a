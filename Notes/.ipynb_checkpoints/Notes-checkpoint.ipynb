{
 "cells": [
  {
   "cell_type": "markdown",
   "id": "d3280c8d-5d5a-45e1-9bed-1ad39792dcc0",
   "metadata": {},
   "source": [
    "# 1.6.6 Currying"
   ]
  },
  {
   "cell_type": "code",
   "execution_count": 5,
   "id": "d9e59c69-27e0-4ccf-a882-f72518d93559",
   "metadata": {},
   "outputs": [
    {
     "data": {
      "text/plain": [
       "8"
      ]
     },
     "execution_count": 5,
     "metadata": {},
     "output_type": "execute_result"
    }
   ],
   "source": [
    "def curry1(x):\n",
    "    def h(y):\n",
    "        return pow(x, y)\n",
    "    return h\n",
    "\n",
    "curry1(2)(3)"
   ]
  },
  {
   "cell_type": "code",
   "execution_count": 7,
   "id": "ab4d8641-9137-4c1d-b628-4e87ab192b74",
   "metadata": {},
   "outputs": [
    {
     "data": {
      "text/plain": [
       "8"
      ]
     },
     "execution_count": 7,
     "metadata": {},
     "output_type": "execute_result"
    }
   ],
   "source": [
    "def curry2(g):\n",
    "    def f(x, y):\n",
    "        return g(x)(y)\n",
    "    return f\n",
    "\n",
    "curry2(curry1)(2, 3) # (2,3) vs (2)(3)"
   ]
  },
  {
   "cell_type": "markdown",
   "id": "eb0be783-76b5-49b7-8831-48883f59b645",
   "metadata": {},
   "source": [
    "# 1.6.7 Lambda Expressions"
   ]
  },
  {
   "cell_type": "code",
   "execution_count": 9,
   "id": "6bcf0a5e-e793-4a53-bdd2-2e1c00aee603",
   "metadata": {},
   "outputs": [
    {
     "data": {
      "text/plain": [
       "2"
      ]
     },
     "execution_count": 9,
     "metadata": {},
     "output_type": "execute_result"
    }
   ],
   "source": [
    "lambdaa = lambda x: x + 1\n",
    "lambdaa(1)"
   ]
  },
  {
   "cell_type": "markdown",
   "id": "ce9a26f7-e5fd-4149-bca5-618a387fcd8c",
   "metadata": {},
   "source": [
    "# lab02"
   ]
  },
  {
   "cell_type": "code",
   "execution_count": 42,
   "id": "40b55681-6415-4d58-a29f-bf9cf106fef5",
   "metadata": {},
   "outputs": [
    {
     "data": {
      "text/plain": [
       "13"
      ]
     },
     "execution_count": 42,
     "metadata": {},
     "output_type": "execute_result"
    }
   ],
   "source": [
    "True and 13"
   ]
  },
  {
   "cell_type": "code",
   "execution_count": 44,
   "id": "e712ae23-8b22-4ed8-8697-1bfa4760eb2a",
   "metadata": {},
   "outputs": [
    {
     "data": {
      "text/plain": [
       "-2"
      ]
     },
     "execution_count": 44,
     "metadata": {},
     "output_type": "execute_result"
    }
   ],
   "source": [
    "-2 or 5"
   ]
  },
  {
   "cell_type": "code",
   "execution_count": 46,
   "id": "579de309-6ee9-4b6e-a2e2-6e9e6c087383",
   "metadata": {},
   "outputs": [
    {
     "data": {
      "text/plain": [
       "0"
      ]
     },
     "execution_count": 46,
     "metadata": {},
     "output_type": "execute_result"
    }
   ],
   "source": [
    "False or 0"
   ]
  },
  {
   "cell_type": "code",
   "execution_count": 48,
   "id": "ecab2e9d-4da0-4096-a1d2-c36c14a243ce",
   "metadata": {},
   "outputs": [
    {
     "data": {
      "text/plain": [
       "True"
      ]
     },
     "execution_count": 48,
     "metadata": {},
     "output_type": "execute_result"
    }
   ],
   "source": [
    "not None"
   ]
  },
  {
   "cell_type": "code",
   "execution_count": 50,
   "id": "3aa55bf9-8264-49d9-91b8-48c06f596323",
   "metadata": {},
   "outputs": [
    {
     "data": {
      "text/plain": [
       "1"
      ]
     },
     "execution_count": 50,
     "metadata": {},
     "output_type": "execute_result"
    }
   ],
   "source": [
    "(1 + 1) and 1"
   ]
  },
  {
   "cell_type": "code",
   "execution_count": 52,
   "id": "941719ac-9fd3-4cb3-a47e-7d9fc189b142",
   "metadata": {},
   "outputs": [
    {
     "name": "stdout",
     "output_type": "stream",
     "text": [
      "3\n"
     ]
    },
    {
     "data": {
      "text/plain": [
       "''"
      ]
     },
     "execution_count": 52,
     "metadata": {},
     "output_type": "execute_result"
    }
   ],
   "source": [
    "print(3) or \"\""
   ]
  },
  {
   "cell_type": "code",
   "execution_count": 54,
   "id": "487bbf60-9e30-4856-a175-803a060c7527",
   "metadata": {},
   "outputs": [
    {
     "data": {
      "text/plain": [
       "'a'"
      ]
     },
     "execution_count": 54,
     "metadata": {},
     "output_type": "execute_result"
    }
   ],
   "source": [
    "0 or \"a\""
   ]
  },
  {
   "cell_type": "code",
   "execution_count": 56,
   "id": "b351d8ee-74ae-4495-a0fb-83bea113b5b6",
   "metadata": {},
   "outputs": [
    {
     "data": {
      "text/plain": [
       "''"
      ]
     },
     "execution_count": 56,
     "metadata": {},
     "output_type": "execute_result"
    }
   ],
   "source": [
    "\"a\" and \"\""
   ]
  },
  {
   "cell_type": "code",
   "execution_count": 58,
   "id": "49fc6ab0-77f9-4c1e-a970-6a8aefc65624",
   "metadata": {},
   "outputs": [
    {
     "name": "stdout",
     "output_type": "stream",
     "text": [
      "beets\n"
     ]
    }
   ],
   "source": [
    "def cake():\n",
    "    print('beets')\n",
    "    def pie():\n",
    "        print('sweets')\n",
    "        return 'cake'\n",
    "    return pie\n",
    "chocolate = cake()\n",
    "choclate\n",
    "chocolate()"
   ]
  },
  {
   "cell_type": "code",
   "execution_count": 78,
   "id": "cf25e11c-485f-4e09-afe6-b88135e21038",
   "metadata": {},
   "outputs": [
    {
     "name": "stdout",
     "output_type": "stream",
     "text": [
      "sweets\n"
     ]
    }
   ],
   "source": [
    "c = chocolate()"
   ]
  },
  {
   "cell_type": "code",
   "execution_count": 76,
   "id": "56b29c76-609d-4c46-aaf3-060ed5533b16",
   "metadata": {},
   "outputs": [
    {
     "data": {
      "text/plain": [
       "'cake'"
      ]
     },
     "execution_count": 76,
     "metadata": {},
     "output_type": "execute_result"
    }
   ],
   "source": [
    "c"
   ]
  },
  {
   "cell_type": "code",
   "execution_count": 86,
   "id": "92ac99cb-7a85-4aad-b8ce-5a8a7ee41eaa",
   "metadata": {},
   "outputs": [
    {
     "data": {
      "text/plain": [
       "<function __main__.<lambda>.<locals>.<lambda>()>"
      ]
     },
     "execution_count": 86,
     "metadata": {},
     "output_type": "execute_result"
    }
   ],
   "source": [
    "b = lambda x, y: lambda: x + y # Lambdas can return other lambdas!\n",
    "c = b(8, 4)\n",
    "c"
   ]
  },
  {
   "cell_type": "code",
   "execution_count": 88,
   "id": "0a8873ec-a6eb-4dda-bb21-922548db8c6f",
   "metadata": {},
   "outputs": [
    {
     "data": {
      "text/plain": [
       "12"
      ]
     },
     "execution_count": 88,
     "metadata": {},
     "output_type": "execute_result"
    }
   ],
   "source": [
    "c()"
   ]
  },
  {
   "cell_type": "code",
   "execution_count": null,
   "id": "1a3461ec-ef9b-4538-9021-7c2bc0bf95f3",
   "metadata": {},
   "outputs": [],
   "source": []
  }
 ],
 "metadata": {
  "kernelspec": {
   "display_name": "Python 3 (ipykernel)",
   "language": "python",
   "name": "python3"
  },
  "language_info": {
   "codemirror_mode": {
    "name": "ipython",
    "version": 3
   },
   "file_extension": ".py",
   "mimetype": "text/x-python",
   "name": "python",
   "nbconvert_exporter": "python",
   "pygments_lexer": "ipython3",
   "version": "3.11.5"
  }
 },
 "nbformat": 4,
 "nbformat_minor": 5
}
