{
 "cells": [
  {
   "cell_type": "markdown",
   "id": "d3280c8d-5d5a-45e1-9bed-1ad39792dcc0",
   "metadata": {},
   "source": [
    "# 1.6.6 Currying"
   ]
  },
  {
   "cell_type": "code",
   "execution_count": 5,
   "id": "d9e59c69-27e0-4ccf-a882-f72518d93559",
   "metadata": {},
   "outputs": [
    {
     "data": {
      "text/plain": [
       "8"
      ]
     },
     "execution_count": 5,
     "metadata": {},
     "output_type": "execute_result"
    }
   ],
   "source": [
    "def curry1(x):\n",
    "    def h(y):\n",
    "        return pow(x, y)\n",
    "    return h\n",
    "\n",
    "curry1(2)(3)"
   ]
  },
  {
   "cell_type": "code",
   "execution_count": 7,
   "id": "ab4d8641-9137-4c1d-b628-4e87ab192b74",
   "metadata": {},
   "outputs": [
    {
     "data": {
      "text/plain": [
       "8"
      ]
     },
     "execution_count": 7,
     "metadata": {},
     "output_type": "execute_result"
    }
   ],
   "source": [
    "def curry2(g):\n",
    "    def f(x, y):\n",
    "        return g(x)(y)\n",
    "    return f\n",
    "\n",
    "curry2(curry1)(2, 3) # (2,3) vs (2)(3)"
   ]
  },
  {
   "cell_type": "markdown",
   "id": "eb0be783-76b5-49b7-8831-48883f59b645",
   "metadata": {},
   "source": [
    "# 1.6.7 Lambda Expressions"
   ]
  },
  {
   "cell_type": "code",
   "execution_count": 9,
   "id": "6bcf0a5e-e793-4a53-bdd2-2e1c00aee603",
   "metadata": {},
   "outputs": [
    {
     "data": {
      "text/plain": [
       "2"
      ]
     },
     "execution_count": 9,
     "metadata": {},
     "output_type": "execute_result"
    }
   ],
   "source": [
    "lambdaa = lambda x: x + 1\n",
    "lambdaa(1)"
   ]
  },
  {
   "cell_type": "code",
   "execution_count": null,
   "id": "40b55681-6415-4d58-a29f-bf9cf106fef5",
   "metadata": {},
   "outputs": [],
   "source": []
  }
 ],
 "metadata": {
  "kernelspec": {
   "display_name": "Python 3 (ipykernel)",
   "language": "python",
   "name": "python3"
  },
  "language_info": {
   "codemirror_mode": {
    "name": "ipython",
    "version": 3
   },
   "file_extension": ".py",
   "mimetype": "text/x-python",
   "name": "python",
   "nbconvert_exporter": "python",
   "pygments_lexer": "ipython3",
   "version": "3.11.5"
  }
 },
 "nbformat": 4,
 "nbformat_minor": 5
}
