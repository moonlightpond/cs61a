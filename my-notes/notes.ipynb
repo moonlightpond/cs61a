{
 "cells": [
  {
   "cell_type": "markdown",
   "id": "d3280c8d-5d5a-45e1-9bed-1ad39792dcc0",
   "metadata": {},
   "source": [
    "# 1.6.6 Currying\n",
    "a tansformation to convert a function from taking multiple arguments into a chain of functions that each take a single argument."
   ]
  },
  {
   "cell_type": "code",
   "execution_count": 5,
   "id": "d9e59c69-27e0-4ccf-a882-f72518d93559",
   "metadata": {},
   "outputs": [
    {
     "data": {
      "text/plain": [
       "8"
      ]
     },
     "execution_count": 5,
     "metadata": {},
     "output_type": "execute_result"
    }
   ],
   "source": [
    "def curry1(x):\n",
    "    def h(y):\n",
    "        return pow(x, y)\n",
    "    return h\n",
    "\n",
    "curry1(2)(3)"
   ]
  },
  {
   "cell_type": "code",
   "execution_count": 7,
   "id": "ab4d8641-9137-4c1d-b628-4e87ab192b74",
   "metadata": {},
   "outputs": [
    {
     "data": {
      "text/plain": [
       "8"
      ]
     },
     "execution_count": 7,
     "metadata": {},
     "output_type": "execute_result"
    }
   ],
   "source": [
    "def curry2(g):\n",
    "    def f(x, y):\n",
    "        return g(x)(y)\n",
    "    return f\n",
    "\n",
    "curry2(curry1)(2, 3) # (2,3) vs (2)(3)"
   ]
  },
  {
   "cell_type": "markdown",
   "id": "eb0be783-76b5-49b7-8831-48883f59b645",
   "metadata": {},
   "source": [
    "# 1.6.7 Lambda Expressions"
   ]
  },
  {
   "cell_type": "code",
   "execution_count": 9,
   "id": "6bcf0a5e-e793-4a53-bdd2-2e1c00aee603",
   "metadata": {},
   "outputs": [
    {
     "data": {
      "text/plain": [
       "2"
      ]
     },
     "execution_count": 9,
     "metadata": {},
     "output_type": "execute_result"
    }
   ],
   "source": [
    "lambdaa = lambda x: x + 1\n",
    "lambdaa(1)"
   ]
  },
  {
   "cell_type": "markdown",
   "id": "ce9a26f7-e5fd-4149-bca5-618a387fcd8c",
   "metadata": {
    "jp-MarkdownHeadingCollapsed": true
   },
   "source": [
    "# lab02"
   ]
  },
  {
   "cell_type": "code",
   "execution_count": 42,
   "id": "40b55681-6415-4d58-a29f-bf9cf106fef5",
   "metadata": {},
   "outputs": [
    {
     "data": {
      "text/plain": [
       "13"
      ]
     },
     "execution_count": 42,
     "metadata": {},
     "output_type": "execute_result"
    }
   ],
   "source": [
    "True and 13"
   ]
  },
  {
   "cell_type": "code",
   "execution_count": 44,
   "id": "e712ae23-8b22-4ed8-8697-1bfa4760eb2a",
   "metadata": {},
   "outputs": [
    {
     "data": {
      "text/plain": [
       "-2"
      ]
     },
     "execution_count": 44,
     "metadata": {},
     "output_type": "execute_result"
    }
   ],
   "source": [
    "-2 or 5"
   ]
  },
  {
   "cell_type": "code",
   "execution_count": 46,
   "id": "579de309-6ee9-4b6e-a2e2-6e9e6c087383",
   "metadata": {},
   "outputs": [
    {
     "data": {
      "text/plain": [
       "0"
      ]
     },
     "execution_count": 46,
     "metadata": {},
     "output_type": "execute_result"
    }
   ],
   "source": [
    "False or 0"
   ]
  },
  {
   "cell_type": "code",
   "execution_count": 48,
   "id": "ecab2e9d-4da0-4096-a1d2-c36c14a243ce",
   "metadata": {},
   "outputs": [
    {
     "data": {
      "text/plain": [
       "True"
      ]
     },
     "execution_count": 48,
     "metadata": {},
     "output_type": "execute_result"
    }
   ],
   "source": [
    "not None"
   ]
  },
  {
   "cell_type": "code",
   "execution_count": 50,
   "id": "3aa55bf9-8264-49d9-91b8-48c06f596323",
   "metadata": {},
   "outputs": [
    {
     "data": {
      "text/plain": [
       "1"
      ]
     },
     "execution_count": 50,
     "metadata": {},
     "output_type": "execute_result"
    }
   ],
   "source": [
    "(1 + 1) and 1"
   ]
  },
  {
   "cell_type": "code",
   "execution_count": 52,
   "id": "941719ac-9fd3-4cb3-a47e-7d9fc189b142",
   "metadata": {},
   "outputs": [
    {
     "name": "stdout",
     "output_type": "stream",
     "text": [
      "3\n"
     ]
    },
    {
     "data": {
      "text/plain": [
       "''"
      ]
     },
     "execution_count": 52,
     "metadata": {},
     "output_type": "execute_result"
    }
   ],
   "source": [
    "print(3) or \"\""
   ]
  },
  {
   "cell_type": "code",
   "execution_count": 54,
   "id": "487bbf60-9e30-4856-a175-803a060c7527",
   "metadata": {},
   "outputs": [
    {
     "data": {
      "text/plain": [
       "'a'"
      ]
     },
     "execution_count": 54,
     "metadata": {},
     "output_type": "execute_result"
    }
   ],
   "source": [
    "0 or \"a\""
   ]
  },
  {
   "cell_type": "code",
   "execution_count": 56,
   "id": "b351d8ee-74ae-4495-a0fb-83bea113b5b6",
   "metadata": {},
   "outputs": [
    {
     "data": {
      "text/plain": [
       "''"
      ]
     },
     "execution_count": 56,
     "metadata": {},
     "output_type": "execute_result"
    }
   ],
   "source": [
    "\"a\" and \"\""
   ]
  },
  {
   "cell_type": "code",
   "execution_count": 58,
   "id": "49fc6ab0-77f9-4c1e-a970-6a8aefc65624",
   "metadata": {},
   "outputs": [
    {
     "name": "stdout",
     "output_type": "stream",
     "text": [
      "beets\n"
     ]
    }
   ],
   "source": [
    "def cake():\n",
    "    print('beets')\n",
    "    def pie():\n",
    "        print('sweets')\n",
    "        return 'cake'\n",
    "    return pie\n",
    "chocolate = cake()\n",
    "choclate\n",
    "chocolate()"
   ]
  },
  {
   "cell_type": "code",
   "execution_count": 78,
   "id": "cf25e11c-485f-4e09-afe6-b88135e21038",
   "metadata": {},
   "outputs": [
    {
     "name": "stdout",
     "output_type": "stream",
     "text": [
      "sweets\n"
     ]
    }
   ],
   "source": [
    "c = chocolate()"
   ]
  },
  {
   "cell_type": "code",
   "execution_count": 76,
   "id": "56b29c76-609d-4c46-aaf3-060ed5533b16",
   "metadata": {},
   "outputs": [
    {
     "data": {
      "text/plain": [
       "'cake'"
      ]
     },
     "execution_count": 76,
     "metadata": {},
     "output_type": "execute_result"
    }
   ],
   "source": [
    "c"
   ]
  },
  {
   "cell_type": "code",
   "execution_count": 86,
   "id": "92ac99cb-7a85-4aad-b8ce-5a8a7ee41eaa",
   "metadata": {},
   "outputs": [
    {
     "data": {
      "text/plain": [
       "<function __main__.<lambda>.<locals>.<lambda>()>"
      ]
     },
     "execution_count": 86,
     "metadata": {},
     "output_type": "execute_result"
    }
   ],
   "source": [
    "b = lambda x, y: lambda: x + y # Lambdas can return other lambdas!\n",
    "c = b(8, 4)\n",
    "c"
   ]
  },
  {
   "cell_type": "code",
   "execution_count": 88,
   "id": "0a8873ec-a6eb-4dda-bb21-922548db8c6f",
   "metadata": {},
   "outputs": [
    {
     "data": {
      "text/plain": [
       "12"
      ]
     },
     "execution_count": 88,
     "metadata": {},
     "output_type": "execute_result"
    }
   ],
   "source": [
    "c()"
   ]
  },
  {
   "cell_type": "markdown",
   "id": "91810058-af43-44e2-9e75-b7326b99d4c5",
   "metadata": {},
   "source": [
    "# 1.7 Recursive Functions\n",
    "the body of the function calls the function itself. \\\n",
    "base case (the simplest condition for the funtion to execute) + one or more recursive calls (simplify the original problem) \\\n",
    "mutually recursive: a recursive procedure is divided among two functions that call each other  \\\n",
    "Tree recursive: a function that calls itself more than once"
   ]
  },
  {
   "cell_type": "code",
   "execution_count": 23,
   "id": "63374ba2-6f05-47b9-8b36-44d1e17ff259",
   "metadata": {},
   "outputs": [],
   "source": [
    "def count_partitions(n, m):\n",
    "    if n == 0:\n",
    "        return 1\n",
    "    elif n < 0:\n",
    "        return 0\n",
    "    elif m == 0:\n",
    "        return 0\n",
    "    else:\n",
    "        return count_partitions(n, m-1) + count_partitions(n-m, m)"
   ]
  },
  {
   "cell_type": "markdown",
   "id": "6d1766a6-b38b-4c13-b19a-43009398e15e",
   "metadata": {
    "jp-MarkdownHeadingCollapsed": true
   },
   "source": [
    "# 2.1 Native Data Types\n",
    "literals + build-in functions"
   ]
  },
  {
   "cell_type": "code",
   "execution_count": 26,
   "id": "5077cb76-d80d-4bce-8b35-0fc53a7d1da6",
   "metadata": {},
   "outputs": [
    {
     "data": {
      "text/plain": [
       "complex"
      ]
     },
     "execution_count": 26,
     "metadata": {},
     "output_type": "execute_result"
    }
   ],
   "source": [
    "type(1+2j)"
   ]
  },
  {
   "cell_type": "markdown",
   "id": "d9261840-5d82-4823-9afc-9dd7a9adb289",
   "metadata": {},
   "source": [
    "Generally, literals are a notation for representing a fixed value in source code.  \n",
    "A literal in Python is a syntax that is used to completely express a fixed value of a specific data type. "
   ]
  },
  {
   "cell_type": "code",
   "execution_count": 36,
   "id": "4e2be446-1fd5-4519-b7c3-8593ade819d0",
   "metadata": {},
   "outputs": [
    {
     "data": {
      "text/plain": [
       "True"
      ]
     },
     "execution_count": 36,
     "metadata": {},
     "output_type": "execute_result"
    }
   ],
   "source": [
    "# float approximation\n",
    "1/3 == 0.333333333333333331111111"
   ]
  },
  {
   "cell_type": "markdown",
   "id": "6566f39b-cc15-4a6e-95e0-627d6065e834",
   "metadata": {},
   "source": [
    "# 2.3 Sequences\n",
    "## 2.3.1 Lists"
   ]
  },
  {
   "cell_type": "code",
   "execution_count": 51,
   "id": "e9597a16-0e7d-45ee-b6a7-e90a5134e0dd",
   "metadata": {},
   "outputs": [
    {
     "data": {
      "text/plain": [
       "[1, 2, 1, 2, 3, 4]"
      ]
     },
     "execution_count": 51,
     "metadata": {},
     "output_type": "execute_result"
    }
   ],
   "source": [
    "list1 = [1, 2]\n",
    "list2 = list1 * 2 + [3, 4]\n",
    "list2"
   ]
  },
  {
   "cell_type": "markdown",
   "id": "abd90df2-c717-4c61-b89b-2b5e63927955",
   "metadata": {},
   "source": [
    "## 2.3.2 Sequence Unpacking"
   ]
  },
  {
   "cell_type": "code",
   "execution_count": 56,
   "id": "1a8d751d-2bbb-4392-8271-aa1fa32d3f46",
   "metadata": {},
   "outputs": [
    {
     "name": "stdout",
     "output_type": "stream",
     "text": [
      "1\n",
      "3\n"
     ]
    }
   ],
   "source": [
    "list3 = [[1, 2], [3, 4]]\n",
    "for x,y in list3:\n",
    "    print(x)"
   ]
  },
  {
   "cell_type": "code",
   "execution_count": 33,
   "id": "fb91e5b2-9842-46a9-a909-10ed27552343",
   "metadata": {},
   "outputs": [
    {
     "name": "stdout",
     "output_type": "stream",
     "text": [
      "1000\n",
      "1004\n"
     ]
    }
   ],
   "source": [
    "for e in filter(lambda x : x % 4 == 0, range(1000, 1008)):\n",
    "    print(e)"
   ]
  },
  {
   "cell_type": "code",
   "execution_count": 85,
   "id": "60f14c5a-471a-48b6-b251-30081944b97d",
   "metadata": {},
   "outputs": [
    {
     "data": {
      "text/plain": [
       "1"
      ]
     },
     "execution_count": 85,
     "metadata": {},
     "output_type": "execute_result"
    }
   ],
   "source": [
    "x = 2\n",
    "def y(x):\n",
    "    x = x-1\n",
    "    return x\n",
    "y(x)\n"
   ]
  },
  {
   "cell_type": "code",
   "execution_count": 99,
   "id": "f0815358-1491-4662-81bc-6b0c41125e98",
   "metadata": {},
   "outputs": [
    {
     "data": {
      "text/plain": [
       "True"
      ]
     },
     "execution_count": 99,
     "metadata": {},
     "output_type": "execute_result"
    }
   ],
   "source": [
    "type('a') == str"
   ]
  },
  {
   "cell_type": "code",
   "execution_count": 155,
   "id": "0f7af4ab-dd71-4c2e-b097-1e976a444343",
   "metadata": {},
   "outputs": [],
   "source": [
    "class Link:\n",
    "    \"\"\"A linked list.\n",
    "\n",
    "    >>> s = Link(1)\n",
    "    >>> s.first\n",
    "    1\n",
    "    >>> s.rest is Link.empty\n",
    "    True\n",
    "    >>> s = Link(2, Link(3, Link(4)))\n",
    "    >>> s.first = 5\n",
    "    >>> s.rest.first = 6\n",
    "    >>> s.rest.rest = Link.empty\n",
    "    >>> s                                    # Displays the contents of repr(s)\n",
    "    Link(5, Link(6))\n",
    "    >>> s.rest = Link(7, Link(Link(8, Link(9))))\n",
    "    >>> s\n",
    "    Link(5, Link(7, Link(Link(8, Link(9)))))\n",
    "    >>> print(s)                             # Prints str(s)\n",
    "    <5 7 <8 9>>\n",
    "    \"\"\"\n",
    "    empty = ()\n",
    "\n",
    "    def __init__(self, first, rest=empty):\n",
    "        assert rest is Link.empty or isinstance(rest, Link)\n",
    "        self.first = first\n",
    "        self.rest = rest\n",
    "\n",
    "    def __repr__(self):\n",
    "        if self.rest is not Link.empty:\n",
    "            rest_repr = ', ' + repr(self.rest)\n",
    "        else:\n",
    "            rest_repr = ''\n",
    "        return 'Link(' + repr(self.first) + rest_repr + ')'\n",
    "\n",
    "    def __str__(self):\n",
    "        string = '<'\n",
    "        while self.rest is not Link.empty:\n",
    "            string += str(self.first) + ' '\n",
    "            self = self.rest\n",
    "        return string + str(self.first) + '>'"
   ]
  },
  {
   "cell_type": "code",
   "execution_count": 157,
   "id": "f28ee9ef-a255-438e-a074-20bfcb8e01e5",
   "metadata": {},
   "outputs": [],
   "source": [
    "def duplicate_link(s, val):\n",
    "    \"\"\"Mutates s so that each element equal to val is followed by another val.\n",
    "\n",
    "    >>> x = Link(5, Link(4, Link(5)))\n",
    "    >>> duplicate_link(x, 5)\n",
    "    >>> x\n",
    "    Link(5, Link(5, Link(4, Link(5, Link(5)))))\n",
    "    >>> y = Link(2, Link(4, Link(6, Link(8))))\n",
    "    >>> duplicate_link(y, 10)\n",
    "    >>> y\n",
    "    Link(2, Link(4, Link(6, Link(8))))\n",
    "    >>> z = Link(1, Link(2, (Link(2, Link(3)))))\n",
    "    >>> duplicate_link(z, 2) # ensures that back to back links with val are both duplicated\n",
    "    >>> z\n",
    "    Link(1, Link(2, Link(2, Link(2, Link(2, Link(3))))))\n",
    "    \"\"\"\n",
    "    \"*** YOUR CODE HERE ***\"\n",
    "    def h(ss, v):\n",
    "        if ss is Link.empty:\n",
    "            return ss\n",
    "        if ss.first == v:\n",
    "            return Link(v, Link(v, h(ss.rest, v)))\n",
    "        else:\n",
    "            return Link(ss.first, h(ss.rest, v))\n",
    "    s = h(s, val)"
   ]
  },
  {
   "cell_type": "code",
   "execution_count": 165,
   "id": "aae8bbaa-6585-420f-9cee-2b9e20448ac1",
   "metadata": {},
   "outputs": [
    {
     "data": {
      "text/plain": [
       "True"
      ]
     },
     "execution_count": 165,
     "metadata": {},
     "output_type": "execute_result"
    }
   ],
   "source": [
    "x = Link(5, Link(4, Link(5)))\n",
    "type(x) is Link"
   ]
  },
  {
   "cell_type": "code",
   "execution_count": 141,
   "id": "5da083d6-ef30-491e-a924-ccaf681f9905",
   "metadata": {},
   "outputs": [],
   "source": [
    "def h(ss, v):\n",
    "        if ss is Link.empty:\n",
    "            return ss\n",
    "        if ss.first == v:\n",
    "            return Link(v, Link(v, h(ss.rest, v)))\n",
    "        else:\n",
    "            return Link(ss.first, h(ss.rest, v))\n",
    "x = h(x, 4)"
   ]
  },
  {
   "cell_type": "code",
   "execution_count": 153,
   "id": "52fc8b2a-9bf8-45bd-b6e0-d2d8001ca5fc",
   "metadata": {},
   "outputs": [
    {
     "data": {
      "text/plain": [
       "'1 b'"
      ]
     },
     "execution_count": 153,
     "metadata": {},
     "output_type": "execute_result"
    }
   ],
   "source": [
    "x = 1\n",
    "y = f'{x} b'\n",
    "y"
   ]
  },
  {
   "cell_type": "code",
   "execution_count": 167,
   "id": "247a2cbc-06ea-4856-b69d-c1e22f80c90b",
   "metadata": {},
   "outputs": [
    {
     "data": {
      "text/plain": [
       "[2, 1]"
      ]
     },
     "execution_count": 167,
     "metadata": {},
     "output_type": "execute_result"
    }
   ],
   "source": [
    "a = [1]\n",
    "a.insert(0, 2)\n",
    "a"
   ]
  },
  {
   "cell_type": "code",
   "execution_count": null,
   "id": "2a3d256e-24c6-40d4-b343-0a1fb46a5d7f",
   "metadata": {},
   "outputs": [],
   "source": []
  }
 ],
 "metadata": {
  "kernelspec": {
   "display_name": "Python 3 (ipykernel)",
   "language": "python",
   "name": "python3"
  },
  "language_info": {
   "codemirror_mode": {
    "name": "ipython",
    "version": 3
   },
   "file_extension": ".py",
   "mimetype": "text/x-python",
   "name": "python",
   "nbconvert_exporter": "python",
   "pygments_lexer": "ipython3",
   "version": "3.11.5"
  }
 },
 "nbformat": 4,
 "nbformat_minor": 5
}
