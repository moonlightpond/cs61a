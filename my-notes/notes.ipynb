{
 "cells": [
  {
   "cell_type": "markdown",
   "id": "d3280c8d-5d5a-45e1-9bed-1ad39792dcc0",
   "metadata": {},
   "source": [
    "# 1.6.6 Currying\n",
    "a tansformation to convert a function from taking multiple arguments into a chain of functions that each take a single argument."
   ]
  },
  {
   "cell_type": "code",
   "execution_count": 5,
   "id": "d9e59c69-27e0-4ccf-a882-f72518d93559",
   "metadata": {},
   "outputs": [
    {
     "data": {
      "text/plain": [
       "8"
      ]
     },
     "execution_count": 5,
     "metadata": {},
     "output_type": "execute_result"
    }
   ],
   "source": [
    "def curry1(x):\n",
    "    def h(y):\n",
    "        return pow(x, y)\n",
    "    return h\n",
    "\n",
    "curry1(2)(3)"
   ]
  },
  {
   "cell_type": "code",
   "execution_count": 7,
   "id": "ab4d8641-9137-4c1d-b628-4e87ab192b74",
   "metadata": {},
   "outputs": [
    {
     "data": {
      "text/plain": [
       "8"
      ]
     },
     "execution_count": 7,
     "metadata": {},
     "output_type": "execute_result"
    }
   ],
   "source": [
    "def curry2(g):\n",
    "    def f(x, y):\n",
    "        return g(x)(y)\n",
    "    return f\n",
    "\n",
    "curry2(curry1)(2, 3) # (2,3) vs (2)(3)"
   ]
  },
  {
   "cell_type": "markdown",
   "id": "eb0be783-76b5-49b7-8831-48883f59b645",
   "metadata": {},
   "source": [
    "# 1.6.7 Lambda Expressions"
   ]
  },
  {
   "cell_type": "code",
   "execution_count": 9,
   "id": "6bcf0a5e-e793-4a53-bdd2-2e1c00aee603",
   "metadata": {},
   "outputs": [
    {
     "data": {
      "text/plain": [
       "2"
      ]
     },
     "execution_count": 9,
     "metadata": {},
     "output_type": "execute_result"
    }
   ],
   "source": [
    "lambdaa = lambda x: x + 1\n",
    "lambdaa(1)"
   ]
  },
  {
   "cell_type": "markdown",
   "id": "ce9a26f7-e5fd-4149-bca5-618a387fcd8c",
   "metadata": {
    "jp-MarkdownHeadingCollapsed": true
   },
   "source": [
    "# lab02"
   ]
  },
  {
   "cell_type": "code",
   "execution_count": 42,
   "id": "40b55681-6415-4d58-a29f-bf9cf106fef5",
   "metadata": {},
   "outputs": [
    {
     "data": {
      "text/plain": [
       "13"
      ]
     },
     "execution_count": 42,
     "metadata": {},
     "output_type": "execute_result"
    }
   ],
   "source": [
    "True and 13"
   ]
  },
  {
   "cell_type": "code",
   "execution_count": 44,
   "id": "e712ae23-8b22-4ed8-8697-1bfa4760eb2a",
   "metadata": {},
   "outputs": [
    {
     "data": {
      "text/plain": [
       "-2"
      ]
     },
     "execution_count": 44,
     "metadata": {},
     "output_type": "execute_result"
    }
   ],
   "source": [
    "-2 or 5"
   ]
  },
  {
   "cell_type": "code",
   "execution_count": 46,
   "id": "579de309-6ee9-4b6e-a2e2-6e9e6c087383",
   "metadata": {},
   "outputs": [
    {
     "data": {
      "text/plain": [
       "0"
      ]
     },
     "execution_count": 46,
     "metadata": {},
     "output_type": "execute_result"
    }
   ],
   "source": [
    "False or 0"
   ]
  },
  {
   "cell_type": "code",
   "execution_count": 48,
   "id": "ecab2e9d-4da0-4096-a1d2-c36c14a243ce",
   "metadata": {},
   "outputs": [
    {
     "data": {
      "text/plain": [
       "True"
      ]
     },
     "execution_count": 48,
     "metadata": {},
     "output_type": "execute_result"
    }
   ],
   "source": [
    "not None"
   ]
  },
  {
   "cell_type": "code",
   "execution_count": 50,
   "id": "3aa55bf9-8264-49d9-91b8-48c06f596323",
   "metadata": {},
   "outputs": [
    {
     "data": {
      "text/plain": [
       "1"
      ]
     },
     "execution_count": 50,
     "metadata": {},
     "output_type": "execute_result"
    }
   ],
   "source": [
    "(1 + 1) and 1"
   ]
  },
  {
   "cell_type": "code",
   "execution_count": 52,
   "id": "941719ac-9fd3-4cb3-a47e-7d9fc189b142",
   "metadata": {},
   "outputs": [
    {
     "name": "stdout",
     "output_type": "stream",
     "text": [
      "3\n"
     ]
    },
    {
     "data": {
      "text/plain": [
       "''"
      ]
     },
     "execution_count": 52,
     "metadata": {},
     "output_type": "execute_result"
    }
   ],
   "source": [
    "print(3) or \"\""
   ]
  },
  {
   "cell_type": "code",
   "execution_count": 54,
   "id": "487bbf60-9e30-4856-a175-803a060c7527",
   "metadata": {},
   "outputs": [
    {
     "data": {
      "text/plain": [
       "'a'"
      ]
     },
     "execution_count": 54,
     "metadata": {},
     "output_type": "execute_result"
    }
   ],
   "source": [
    "0 or \"a\""
   ]
  },
  {
   "cell_type": "code",
   "execution_count": 56,
   "id": "b351d8ee-74ae-4495-a0fb-83bea113b5b6",
   "metadata": {},
   "outputs": [
    {
     "data": {
      "text/plain": [
       "''"
      ]
     },
     "execution_count": 56,
     "metadata": {},
     "output_type": "execute_result"
    }
   ],
   "source": [
    "\"a\" and \"\""
   ]
  },
  {
   "cell_type": "code",
   "execution_count": 58,
   "id": "49fc6ab0-77f9-4c1e-a970-6a8aefc65624",
   "metadata": {},
   "outputs": [
    {
     "name": "stdout",
     "output_type": "stream",
     "text": [
      "beets\n"
     ]
    }
   ],
   "source": [
    "def cake():\n",
    "    print('beets')\n",
    "    def pie():\n",
    "        print('sweets')\n",
    "        return 'cake'\n",
    "    return pie\n",
    "chocolate = cake()\n",
    "choclate\n",
    "chocolate()"
   ]
  },
  {
   "cell_type": "code",
   "execution_count": 78,
   "id": "cf25e11c-485f-4e09-afe6-b88135e21038",
   "metadata": {},
   "outputs": [
    {
     "name": "stdout",
     "output_type": "stream",
     "text": [
      "sweets\n"
     ]
    }
   ],
   "source": [
    "c = chocolate()"
   ]
  },
  {
   "cell_type": "code",
   "execution_count": 76,
   "id": "56b29c76-609d-4c46-aaf3-060ed5533b16",
   "metadata": {},
   "outputs": [
    {
     "data": {
      "text/plain": [
       "'cake'"
      ]
     },
     "execution_count": 76,
     "metadata": {},
     "output_type": "execute_result"
    }
   ],
   "source": [
    "c"
   ]
  },
  {
   "cell_type": "code",
   "execution_count": 86,
   "id": "92ac99cb-7a85-4aad-b8ce-5a8a7ee41eaa",
   "metadata": {},
   "outputs": [
    {
     "data": {
      "text/plain": [
       "<function __main__.<lambda>.<locals>.<lambda>()>"
      ]
     },
     "execution_count": 86,
     "metadata": {},
     "output_type": "execute_result"
    }
   ],
   "source": [
    "b = lambda x, y: lambda: x + y # Lambdas can return other lambdas!\n",
    "c = b(8, 4)\n",
    "c"
   ]
  },
  {
   "cell_type": "code",
   "execution_count": 88,
   "id": "0a8873ec-a6eb-4dda-bb21-922548db8c6f",
   "metadata": {},
   "outputs": [
    {
     "data": {
      "text/plain": [
       "12"
      ]
     },
     "execution_count": 88,
     "metadata": {},
     "output_type": "execute_result"
    }
   ],
   "source": [
    "c()"
   ]
  },
  {
   "cell_type": "markdown",
   "id": "91810058-af43-44e2-9e75-b7326b99d4c5",
   "metadata": {},
   "source": [
    "# 1.7 Recursive Functions\n",
    "the body of the function calls the function itself. \\\n",
    "base case (the simplest condition for the funtion to execute) + one or more recursive calls (simplify the original problem) \\\n",
    "mutually recursive: a recursive procedure is divided among two functions that call each other  \\\n",
    "Tree recursive: a function that calls itself more than once"
   ]
  },
  {
   "cell_type": "code",
   "execution_count": 23,
   "id": "63374ba2-6f05-47b9-8b36-44d1e17ff259",
   "metadata": {},
   "outputs": [],
   "source": [
    "def count_partitions(n, m):\n",
    "    if n == 0:\n",
    "        return 1\n",
    "    elif n < 0:\n",
    "        return 0\n",
    "    elif m == 0:\n",
    "        return 0\n",
    "    else:\n",
    "        return count_partitions(n, m-1) + count_partitions(n-m, m)"
   ]
  },
  {
   "cell_type": "markdown",
   "id": "6d1766a6-b38b-4c13-b19a-43009398e15e",
   "metadata": {
    "jp-MarkdownHeadingCollapsed": true
   },
   "source": [
    "# 2.1 Native Data Types\n",
    "literals + build-in functions"
   ]
  },
  {
   "cell_type": "code",
   "execution_count": 26,
   "id": "5077cb76-d80d-4bce-8b35-0fc53a7d1da6",
   "metadata": {},
   "outputs": [
    {
     "data": {
      "text/plain": [
       "complex"
      ]
     },
     "execution_count": 26,
     "metadata": {},
     "output_type": "execute_result"
    }
   ],
   "source": [
    "type(1+2j)"
   ]
  },
  {
   "cell_type": "markdown",
   "id": "d9261840-5d82-4823-9afc-9dd7a9adb289",
   "metadata": {},
   "source": [
    "Generally, literals are a notation for representing a fixed value in source code.  \n",
    "A literal in Python is a syntax that is used to completely express a fixed value of a specific data type. "
   ]
  },
  {
   "cell_type": "code",
   "execution_count": 36,
   "id": "4e2be446-1fd5-4519-b7c3-8593ade819d0",
   "metadata": {},
   "outputs": [
    {
     "data": {
      "text/plain": [
       "True"
      ]
     },
     "execution_count": 36,
     "metadata": {},
     "output_type": "execute_result"
    }
   ],
   "source": [
    "# float approximation\n",
    "1/3 == 0.333333333333333331111111"
   ]
  },
  {
   "cell_type": "markdown",
   "id": "6566f39b-cc15-4a6e-95e0-627d6065e834",
   "metadata": {},
   "source": [
    "# 2.3 Sequences\n",
    "## 2.3.1 Lists"
   ]
  },
  {
   "cell_type": "code",
   "execution_count": 51,
   "id": "e9597a16-0e7d-45ee-b6a7-e90a5134e0dd",
   "metadata": {},
   "outputs": [
    {
     "data": {
      "text/plain": [
       "[1, 2, 1, 2, 3, 4]"
      ]
     },
     "execution_count": 51,
     "metadata": {},
     "output_type": "execute_result"
    }
   ],
   "source": [
    "list1 = [1, 2]\n",
    "list2 = list1 * 2 + [3, 4]\n",
    "list2"
   ]
  },
  {
   "cell_type": "markdown",
   "id": "abd90df2-c717-4c61-b89b-2b5e63927955",
   "metadata": {},
   "source": [
    "## 2.3.2 Sequence Unpacking"
   ]
  },
  {
   "cell_type": "code",
   "execution_count": 56,
   "id": "1a8d751d-2bbb-4392-8271-aa1fa32d3f46",
   "metadata": {},
   "outputs": [
    {
     "name": "stdout",
     "output_type": "stream",
     "text": [
      "1\n",
      "3\n"
     ]
    }
   ],
   "source": [
    "list3 = [[1, 2], [3, 4]]\n",
    "for x,y in list3:\n",
    "    print(x)"
   ]
  },
  {
   "cell_type": "code",
   "execution_count": 33,
   "id": "fb91e5b2-9842-46a9-a909-10ed27552343",
   "metadata": {},
   "outputs": [
    {
     "name": "stdout",
     "output_type": "stream",
     "text": [
      "1000\n",
      "1004\n"
     ]
    }
   ],
   "source": [
    "for e in filter(lambda x : x % 4 == 0, range(1000, 1008)):\n",
    "    print(e)"
   ]
  },
  {
   "cell_type": "code",
   "execution_count": 47,
   "id": "b1a8d71a-3365-42b4-b1fd-45dabca5bc01",
   "metadata": {},
   "outputs": [
    {
     "name": "stdout",
     "output_type": "stream",
     "text": [
      "1\n"
     ]
    }
   ],
   "source": [
    "s = iter([1, 2, 3])\n",
    "a = next(s)\n",
    "next(s)\n",
    "print(a)"
   ]
  },
  {
   "cell_type": "code",
   "execution_count": 51,
   "id": "ee1ceeeb-eaba-4fae-a43a-72bcdfb2b772",
   "metadata": {},
   "outputs": [
    {
     "data": {
      "text/plain": [
       "[1, 2, 3]"
      ]
     },
     "execution_count": 51,
     "metadata": {},
     "output_type": "execute_result"
    }
   ],
   "source": [
    "def tree(label, branches=[]):\n",
    "    \"\"\"Construct a tree with the given label value and a list of branches.\"\"\"\n",
    "    for branch in branches:\n",
    "        assert is_tree(branch), 'branches must be trees'\n",
    "    return [label] + list(branches)\n",
    "\n",
    "def label(tree):\n",
    "    \"\"\"Return the label value of a tree.\"\"\"\n",
    "    return tree[0]\n",
    "\n",
    "def branches(tree):\n",
    "    \"\"\"Return the list of branches of the given tree.\"\"\"\n",
    "    return tree[1:]\n",
    "\n",
    "def is_tree(tree):\n",
    "    \"\"\"Returns True if the given tree is a tree, and False otherwise.\"\"\"\n",
    "    if type(tree) != list or len(tree) < 1:\n",
    "        return False\n",
    "    for branch in branches(tree):\n",
    "        if not is_tree(branch):\n",
    "            return False\n",
    "    return True\n",
    "\n",
    "def is_leaf(tree):\n",
    "    \"\"\"Returns True if the given tree's list of branches is empty, and False\n",
    "    otherwise.\n",
    "    \"\"\"\n",
    "    return not branches(tree)\n",
    "\n",
    "a = tree(1)\n",
    "#b = tree(label(a), [2, 3])\n",
    "b = [label(a)] + [2, 3]\n",
    "b"
   ]
  },
  {
   "cell_type": "code",
   "execution_count": 69,
   "id": "4744af46-4106-4f4a-89fb-d94888550fc0",
   "metadata": {},
   "outputs": [
    {
     "data": {
      "text/plain": [
       "2"
      ]
     },
     "execution_count": 69,
     "metadata": {},
     "output_type": "execute_result"
    }
   ],
   "source": [
    "class parent:\n",
    "    a = 1\n",
    "    def f(self):\n",
    "        return self.a\n",
    "        \n",
    "class child(parent):\n",
    "    a = 2\n",
    "p = parent()\n",
    "pp = child()\n",
    "pp.f()"
   ]
  },
  {
   "cell_type": "code",
   "execution_count": 77,
   "id": "dccbacdc-d65a-47c1-8049-113a5038c3ae",
   "metadata": {},
   "outputs": [
    {
     "data": {
      "text/plain": [
       "[1, -1]"
      ]
     },
     "execution_count": 77,
     "metadata": {},
     "output_type": "execute_result"
    }
   ],
   "source": [
    "list = [1, -1, -2]\n",
    "a = list\n",
    "for i in a:\n",
    "    if i < 0:\n",
    "        list.pop()\n",
    "a"
   ]
  },
  {
   "cell_type": "code",
   "execution_count": null,
   "id": "60f14c5a-471a-48b6-b251-30081944b97d",
   "metadata": {},
   "outputs": [],
   "source": []
  }
 ],
 "metadata": {
  "kernelspec": {
   "display_name": "Python 3 (ipykernel)",
   "language": "python",
   "name": "python3"
  },
  "language_info": {
   "codemirror_mode": {
    "name": "ipython",
    "version": 3
   },
   "file_extension": ".py",
   "mimetype": "text/x-python",
   "name": "python",
   "nbconvert_exporter": "python",
   "pygments_lexer": "ipython3",
   "version": "3.11.5"
  }
 },
 "nbformat": 4,
 "nbformat_minor": 5
}
