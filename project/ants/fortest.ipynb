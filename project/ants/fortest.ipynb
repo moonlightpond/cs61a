{
 "cells": [
  {
   "cell_type": "code",
   "execution_count": 1,
   "id": "eec06d9c-d534-411c-8d27-320148b6c0d0",
   "metadata": {},
   "outputs": [
    {
     "data": {
      "text/plain": [
       "'tunnel_0_2'"
      ]
     },
     "execution_count": 1,
     "metadata": {},
     "output_type": "execute_result"
    }
   ],
   "source": [
    "from ants import *\n",
    "beehive, layout = Hive(AssaultPlan()), dry_layout\n",
    "dimensions = (1, 9)\n",
    "gamestate = GameState(beehive, ant_types(), layout, dimensions)\n",
    "# Testing Scare\n",
    "scary = ScaryThrower()\n",
    "bee = Bee(3)\n",
    "gamestate.places[\"tunnel_0_0\"].add_insect(scary)\n",
    "gamestate.places[\"tunnel_0_1\"].add_insect(bee)\n",
    "scary.action(gamestate)\n",
    "bee.action(gamestate)\n",
    "bee.place.name"
   ]
  },
  {
   "cell_type": "code",
   "execution_count": 2,
   "id": "ea077d90-5834-4fbb-818c-140d05c9681c",
   "metadata": {},
   "outputs": [
    {
     "data": {
      "text/plain": [
       "'tunnel_0_3'"
      ]
     },
     "execution_count": 2,
     "metadata": {},
     "output_type": "execute_result"
    }
   ],
   "source": [
    "bee.move_to(bee.place.entrance)\n",
    "bee.place.name"
   ]
  },
  {
   "cell_type": "code",
   "execution_count": 3,
   "id": "5852e0b1-36b6-4bd6-8c91-bd6cb7c50e79",
   "metadata": {},
   "outputs": [
    {
     "data": {
      "text/plain": [
       "'tunnel_0_4'"
      ]
     },
     "execution_count": 3,
     "metadata": {},
     "output_type": "execute_result"
    }
   ],
   "source": [
    "bee.action(gamestate)\n",
    "bee.place.name"
   ]
  },
  {
   "cell_type": "code",
   "execution_count": 4,
   "id": "741799c6-08b8-4c06-9f5f-b6041ecc53b5",
   "metadata": {},
   "outputs": [
    {
     "name": "stdout",
     "output_type": "stream",
     "text": [
      "a\n",
      "tunnel_0_8\n",
      "5\n"
     ]
    }
   ],
   "source": [
    "from ants import *\n",
    "beehive, layout = Hive(AssaultPlan()), dry_layout\n",
    "dimensions = (1, 9)\n",
    "gamestate = GameState(beehive, ant_types(), layout, dimensions)\n",
    "# Testing if statuses stack\n",
    "slow = SlowThrower()\n",
    "bee = Bee(3)\n",
    "slow_place = gamestate.places[\"tunnel_0_0\"]\n",
    "bee_place = gamestate.places[\"tunnel_0_8\"]\n",
    "slow_place.add_insect(slow)\n",
    "bee_place.add_insect(bee)\n",
    "slow.action(gamestate)    # slow bee two times\n",
    "slow.action(gamestate)\n",
    "gamestate.time = 1\n",
    "bee.action(gamestate) # do nothing. There are 5 turns left with the bee slowed.\n",
    "print(bee.place.name)\n",
    "print(bee.n_slow)"
   ]
  },
  {
   "cell_type": "code",
   "execution_count": 5,
   "id": "56f3208b-2917-4e59-95e6-3830353101ee",
   "metadata": {},
   "outputs": [
    {
     "name": "stdout",
     "output_type": "stream",
     "text": [
      "b\n",
      "a\n",
      "tunnel_0_7\n",
      "4\n",
      "a\n",
      "tunnel_0_7\n",
      "3\n",
      "b\n",
      "a\n",
      "tunnel_0_6\n",
      "2\n",
      "a\n",
      "1\n"
     ]
    }
   ],
   "source": [
    "gamestate.time = 2\n",
    "bee.action(gamestate) # do nothing. There are 5 turns left with the bee slowed.\n",
    "print(bee.place.name)\n",
    "print(bee.n_slow)\n",
    "\n",
    "gamestate.time = 3\n",
    "bee.action(gamestate) # do nothing. There are 5 turns left with the bee slowed.\n",
    "print(bee.place.name)\n",
    "print(bee.n_slow)\n",
    "\n",
    "gamestate.time = 4\n",
    "bee.action(gamestate) # do nothing. There are 5 turns left with the bee slowed.\n",
    "print(bee.place.name)\n",
    "print(bee.n_slow)\n",
    "\n",
    "gamestate.time = 5\n",
    "bee.action(gamestate) # do nothing. There are 5 turns left with the bee slowed.\n",
    "bee.place.name\n",
    "print(bee.n_slow)"
   ]
  },
  {
   "cell_type": "code",
   "execution_count": null,
   "id": "679a22f9-d9fe-4e04-8b99-54d6cefd0beb",
   "metadata": {},
   "outputs": [],
   "source": []
  },
  {
   "cell_type": "code",
   "execution_count": null,
   "id": "dfe83250-3eff-4d67-b644-d6d1f15f4bbf",
   "metadata": {},
   "outputs": [],
   "source": []
  }
 ],
 "metadata": {
  "kernelspec": {
   "display_name": "Python 3 (ipykernel)",
   "language": "python",
   "name": "python3"
  },
  "language_info": {
   "codemirror_mode": {
    "name": "ipython",
    "version": 3
   },
   "file_extension": ".py",
   "mimetype": "text/x-python",
   "name": "python",
   "nbconvert_exporter": "python",
   "pygments_lexer": "ipython3",
   "version": "3.11.5"
  }
 },
 "nbformat": 4,
 "nbformat_minor": 5
}
